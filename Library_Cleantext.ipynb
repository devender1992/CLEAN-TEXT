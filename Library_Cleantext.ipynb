{
 "cells": [
  {
   "cell_type": "markdown",
   "metadata": {},
   "source": [
    "# Clean-text Documentation"
   ]
  },
  {
   "cell_type": "markdown",
   "metadata": {},
   "source": [
    "### Default Parameters\n",
    "\n",
    "from cleantext import clean\n",
    "\n",
    "clean(\"some input\",\n",
    "\n",
    "    fix_unicode=True,               # fix various unicode errors\n",
    "    \n",
    "    to_ascii=True,                  # transliterate to closest ASCII representation\n",
    "    \n",
    "    lower=True,                     # lowercase text\n",
    "    \n",
    "    no_line_breaks=False,           # fully strip line breaks as opposed to only normalizing them\n",
    "    \n",
    "    no_urls=False,                  # replace all URLs with a special token\n",
    "    \n",
    "    no_emails=False,                # replace all email addresses with a special token\n",
    "    \n",
    "    no_phone_numbers=False,         # replace all phone numbers with a special token\n",
    "    \n",
    "    \n",
    "    no_numbers=False,               # replace all numbers with a special token\n",
    "    \n",
    "    no_digits=False,                # replace all digits with a special token\n",
    "    \n",
    "    no_currency_symbols=False,      # replace all currency symbols with a special token\n",
    "    \n",
    "    no_punct=False,                 # remove punctuations\n",
    "    \n",
    "    replace_with_punct=\"\",          # instead of removing punctuations you may replace them\n",
    "    \n",
    "    replace_with_url=\"<URL>\",\n",
    "    \n",
    "    replace_with_email=\"<EMAIL>\",\n",
    "    \n",
    "    replace_with_phone_number=\"<PHONE>\",\n",
    "    \n",
    "    replace_with_number=\"<NUMBER>\",\n",
    "    \n",
    "    replace_with_digit=\"0\",\n",
    "    \n",
    "    replace_with_currency_symbol=\"<CUR>\",\n",
    "    \n",
    "    lang=\"en\"                       # set to 'de' for German special handling\n",
    ")\n"
   ]
  },
  {
   "cell_type": "markdown",
   "metadata": {},
   "source": [
    "Carefully choose the arguments that fit your task. The default parameters are listed above.\n",
    "\n",
    "You may also only use specific functions for cleaning. For this, take a look at the source code.\n",
    "\n",
    "So far, only English and German are fully supported."
   ]
  },
  {
   "cell_type": "code",
   "execution_count": 1,
   "metadata": {},
   "outputs": [
    {
     "data": {
      "text/plain": [
       "'zurich largest city of switzerland and capital of the canton of zurich located in an alzupine currency is not rupees'"
      ]
     },
     "execution_count": 1,
     "metadata": {},
     "output_type": "execute_result"
    }
   ],
   "source": [
    "#Importing the clean text library\n",
    "from cleantext import clean\n",
    "# Sample text\n",
    "text = \"\"\" Zürich, largest city of Switzerland and capital of the canton of 633Zürich. Located in an Al\\u017eupine. (https://google.com). Currency is not ₹\"\"\"\n",
    "# Cleaning the \"text\" with clean text\n",
    "clean(text, \n",
    "      fix_unicode=True, \n",
    "      to_ascii=True, \n",
    "      lower=True, \n",
    "      no_urls=True, \n",
    "      no_numbers=True, \n",
    "      no_digits=True, \n",
    "      no_currency_symbols=True, \n",
    "      no_punct=True, \n",
    "      replace_with_punct=\" \", \n",
    "      replace_with_url=\"\", \n",
    "      replace_with_number=\"\", \n",
    "      replace_with_digit=\" \", \n",
    "      replace_with_currency_symbol=\"Rupees\")\n"
   ]
  },
  {
   "cell_type": "code",
   "execution_count": 40,
   "metadata": {},
   "outputs": [],
   "source": [
    "import cleantext\n",
    "def test_normalize_whitespace():\n",
    "    text = \"Hello, world!  Hello...\\t \\tworld?\\n\\nHello:\\r\\n\\n\\nWorld. \"\n",
    "    print(cleantext.normalize_whitespace(text, no_line_breaks=False))"
   ]
  },
  {
   "cell_type": "code",
   "execution_count": 41,
   "metadata": {},
   "outputs": [
    {
     "name": "stdout",
     "output_type": "stream",
     "text": [
      "Hello, world! Hello... world?\n",
      "Hello:\n",
      "World.\n"
     ]
    }
   ],
   "source": [
    "test_normalize_whitespace()"
   ]
  },
  {
   "cell_type": "code",
   "execution_count": 4,
   "metadata": {},
   "outputs": [],
   "source": [
    "def test_replace_urls():\n",
    "    texts = [\n",
    "        [\n",
    "            \"I learned everything I know from www.stackoverflow.com and http://wikipedia.org/ and Mom.\",\n",
    "            \"I learned everything I know from *URL* and *URL* and Mom.\",\n",
    "        ],\n",
    "        [\n",
    "            \"There's a bunch of references in that one scene alone, including [Moana](https://en.wikipedia.org/wiki/Moana_%282016_film%29), which comes out later this year.\",\n",
    "            \"There's a bunch of references in that one scene alone, including [Moana](*URL*), which comes out later this year.\",\n",
    "        ],\n",
    "        [\n",
    "            \"Also this should be fixed http://localhost:8080, https://localhost:8080, localhost:8080\",\n",
    "            \"Also this should be fixed *URL*, *URL*, localhost:8080\",\n",
    "        ],\n",
    "    ]\n",
    "\n",
    "    for text, proc_text in texts:\n",
    "        print(cleantext.replace_urls(text, \"*URL*\"))"
   ]
  },
  {
   "cell_type": "code",
   "execution_count": 5,
   "metadata": {},
   "outputs": [
    {
     "name": "stdout",
     "output_type": "stream",
     "text": [
      "I learned everything I know from *URL* and *URL* and Mom.\n",
      "There's a bunch of references in that one scene alone, including [Moana](*URL*), which comes out later this year.\n",
      "Also this should be fixed *URL*, *URL*, localhost:8080\n"
     ]
    }
   ],
   "source": [
    "test_replace_urls()"
   ]
  },
  {
   "cell_type": "code",
   "execution_count": 6,
   "metadata": {},
   "outputs": [],
   "source": [
    "email_addresses = [\n",
    "    \"mustermann@fh-aachen.de\",\n",
    "    \"mustermann(at)fh-aachen.de\",\n",
    "    \"m.mustermann@fh-aachen.de\",\n",
    "    \"m.mustermann(at)fh-aachen.de\",\n",
    "    \"m.mustermann<at>fh-aachen.de\",\n",
    "    \"m.mustermann[at]fh-aachen.de\",\n",
    "    \"m.mustermann{at}fh-aachen.de\",\n",
    "    \"m.mustermann@alumni.fh-aachen.de\",\n",
    "    \"max.mustermann@alumni.fh-aachen.com\",\n",
    "    \"hotbunny1337@test.mail.gg\",\n",
    "    \"test@this.really.should.work.com\",\n",
    "]\n",
    "\n",
    "not_email_addresses = [\n",
    "    \"mustermann@ fh-aachen.de\",\n",
    "    \"mustermannatfh-aachen.de\",\n",
    "    \"mustermannat)fh-aachen.de\",\n",
    "    \"@test.de\",\n",
    "    \"hu@.de\",\n",
    "]\n",
    "\n",
    "\n",
    "def test_replace_emails():\n",
    "    text = \"I can be reached at username@example.com through next Friday.\"\n",
    "    proc_text = \"I can be reached at *EMAIL* through next Friday.\"\n",
    "    print(cleantext.replace_emails(text, \"*EMAIL*\"))\n"
   ]
  },
  {
   "cell_type": "code",
   "execution_count": 7,
   "metadata": {},
   "outputs": [
    {
     "name": "stdout",
     "output_type": "stream",
     "text": [
      "I can be reached at *EMAIL* through next Friday.\n"
     ]
    }
   ],
   "source": [
    "test_replace_emails()"
   ]
  },
  {
   "cell_type": "code",
   "execution_count": 8,
   "metadata": {},
   "outputs": [],
   "source": [
    "def test_email_addresses():\n",
    "    for x in email_addresses:\n",
    "        print(cleantext.replace_emails(x, \"*EMAIL*\"))\n",
    "\n",
    "\n",
    "def test_not_email_addresses():\n",
    "    for x in not_email_addresses:\n",
    "        print(cleantext.replace_emails(x, \"*EMAIL*\"))\n"
   ]
  },
  {
   "cell_type": "code",
   "execution_count": 9,
   "metadata": {},
   "outputs": [
    {
     "name": "stdout",
     "output_type": "stream",
     "text": [
      "*EMAIL*\n",
      "*EMAIL*\n",
      "*EMAIL*\n",
      "*EMAIL*\n",
      "*EMAIL*\n",
      "*EMAIL*\n",
      "*EMAIL*\n",
      "*EMAIL*\n",
      "*EMAIL*\n",
      "*EMAIL*\n",
      "*EMAIL*\n"
     ]
    }
   ],
   "source": [
    "test_email_addresses()"
   ]
  },
  {
   "cell_type": "code",
   "execution_count": 10,
   "metadata": {},
   "outputs": [
    {
     "name": "stdout",
     "output_type": "stream",
     "text": [
      "mustermann@ fh-aachen.de\n",
      "mustermannatfh-aachen.de\n",
      "mustermannat)fh-aachen.de\n",
      "@test.de\n",
      "hu@.de\n"
     ]
    }
   ],
   "source": [
    "test_not_email_addresses()"
   ]
  },
  {
   "cell_type": "code",
   "execution_count": 11,
   "metadata": {},
   "outputs": [],
   "source": [
    "phone_numbers = [\n",
    "    \"+49 123 1548690\",\n",
    "    \"555-123-4567\",\n",
    "    \"2404 9099130\",\n",
    "    \"024049099130\",\n",
    "    \"02404 9099130\",\n",
    "    \"02404/9099130\",\n",
    "    \"+492404 9099130\",\n",
    "    \"+4924049099130\",\n",
    "    \"+492404/9099130\",\n",
    "    \"0160 123456789\",\n",
    "    \"0160/123456789\",\n",
    "    \"+32160 123456789\",\n",
    "    \"Tel.: 0160 123456789\",\n",
    "]\n",
    "\n",
    "\n",
    "def test_replace_phone_numbers():\n",
    "    for x in phone_numbers:\n",
    "        x_phone = cleantext.replace_phone_numbers(x, \"*PHONE*\")\n",
    "        print(\"PHONE\" in x_phone and not any(map(str.isdigit, x_phone)), (\n",
    "            x + \" / \" + x_phone\n",
    "        ))\n",
    "\n",
    "\n",
    "def test_replace_numbers():\n",
    "    text = \"I owe $1,000.99 to 123 people for 2 +1 reasons.\"\n",
    "    proc_text = \"I owe $*NUM* to *NUM* people for *NUM* *NUM* reasons.\"\n",
    "    print(cleantext.replace_numbers(text, \"*NUM*\"))\n"
   ]
  },
  {
   "cell_type": "code",
   "execution_count": 12,
   "metadata": {},
   "outputs": [
    {
     "name": "stdout",
     "output_type": "stream",
     "text": [
      "True +49 123 1548690 / *PHONE*\n",
      "True 555-123-4567 / *PHONE*\n",
      "True 2404 9099130 / *PHONE*\n",
      "True 024049099130 / *PHONE*\n",
      "True 02404 9099130 / *PHONE*\n",
      "True 02404/9099130 / *PHONE*\n",
      "True +492404 9099130 / *PHONE*\n",
      "True +4924049099130 / *PHONE*\n",
      "True +492404/9099130 / *PHONE*\n",
      "True 0160 123456789 / *PHONE*\n",
      "True 0160/123456789 / *PHONE*\n",
      "True +32160 123456789 / *PHONE*\n",
      "True Tel.: 0160 123456789 / Tel.: *PHONE*\n"
     ]
    }
   ],
   "source": [
    "test_replace_phone_numbers()"
   ]
  },
  {
   "cell_type": "code",
   "execution_count": 13,
   "metadata": {},
   "outputs": [
    {
     "name": "stdout",
     "output_type": "stream",
     "text": [
      "I owe $*NUM* to *NUM* people for *NUM* *NUM* reasons.\n"
     ]
    }
   ],
   "source": [
    "test_replace_numbers()"
   ]
  },
  {
   "cell_type": "code",
   "execution_count": 14,
   "metadata": {},
   "outputs": [],
   "source": [
    "def test_remove_punct():\n",
    "    text = \"I can't. No, I won't! It's a matter of \\\"principle\\\"; of -- what's the word? -- conscience.\"\n",
    "    proc_text = (\n",
    "        \"I cant No I wont Its a matter of principle of  whats the word  conscience\"\n",
    "    )\n",
    "    print(cleantext.remove_punct(text))\n"
   ]
  },
  {
   "cell_type": "code",
   "execution_count": 15,
   "metadata": {},
   "outputs": [
    {
     "name": "stdout",
     "output_type": "stream",
     "text": [
      "I cant No I wont Its a matter of principle of  whats the word  conscience\n",
      "None\n"
     ]
    }
   ],
   "source": [
    "print(test_remove_punct())"
   ]
  },
  {
   "cell_type": "code",
   "execution_count": 16,
   "metadata": {},
   "outputs": [],
   "source": [
    "def test_replace_punct():\n",
    "    text = \"I can't. No, I won't!\"\n",
    "    proc_text = \"i can t no i won t\"\n",
    "    print(cleantext.clean(text, no_punct=True, replace_with_punct=\" \"))\n"
   ]
  },
  {
   "cell_type": "code",
   "execution_count": 17,
   "metadata": {},
   "outputs": [
    {
     "name": "stdout",
     "output_type": "stream",
     "text": [
      "i can t no i won t\n"
     ]
    }
   ],
   "source": [
    "test_replace_punct()"
   ]
  },
  {
   "cell_type": "code",
   "execution_count": 18,
   "metadata": {},
   "outputs": [],
   "source": [
    "def test_replace_currency_symbols():\n",
    "    tests = [\n",
    "        (\n",
    "            \"$1.00 equals £0.67 equals €0.91.\",\n",
    "            \"USD1.00 equals GBP0.67 equals EUR0.91.\",\n",
    "            \"*CUR* 1.00 equals *CUR* 0.67 equals *CUR* 0.91.\",\n",
    "        ),\n",
    "        (\n",
    "            \"this zebra costs $100.\",\n",
    "            \"this zebra costs USD100.\",\n",
    "            \"this zebra costs *CUR* 100.\",\n",
    "        ),\n",
    "    ]\n",
    "    for text, proc_text1, proc_text2 in tests:\n",
    "        print(cleantext.replace_currency_symbols(text, replace_with=None))\n",
    "        print(\n",
    "            cleantext.replace_currency_symbols(text, replace_with=\"*CUR* \"))\n"
   ]
  },
  {
   "cell_type": "code",
   "execution_count": 19,
   "metadata": {},
   "outputs": [
    {
     "name": "stdout",
     "output_type": "stream",
     "text": [
      "USD1.00 equals GBP0.67 equals EUR0.91.\n",
      "*CUR* 1.00 equals *CUR* 0.67 equals *CUR* 0.91.\n",
      "this zebra costs USD100.\n",
      "this zebra costs *CUR* 100.\n"
     ]
    }
   ],
   "source": [
    "test_replace_currency_symbols()"
   ]
  },
  {
   "cell_type": "code",
   "execution_count": 20,
   "metadata": {},
   "outputs": [],
   "source": [
    "def test_fix_bad_unicode():\n",
    "    text = \"and install a \\\\u2018new\\\\u2019 society in their\"\n",
    "    assert cleantext.fix_bad_unicode(text) == \"and install a 'new' society in their\"\n",
    "    print(cleantext.fix_bad_unicode(text))\n"
   ]
  },
  {
   "cell_type": "code",
   "execution_count": 21,
   "metadata": {},
   "outputs": [
    {
     "name": "stdout",
     "output_type": "stream",
     "text": [
      "and install a 'new' society in their\n"
     ]
    }
   ],
   "source": [
    "test_fix_bad_unicode()"
   ]
  },
  {
   "cell_type": "code",
   "execution_count": 22,
   "metadata": {},
   "outputs": [],
   "source": [
    "def test_zero_digits():\n",
    "    text = \"in the 1970s there was 12.3 and 111 11 33 $23 03 wins\"\n",
    "    print(cleantext.replace_digits(text))\n",
    "    \n",
    "    text = \"7 Golf Records More 'Unbreakable' Than the Warriors' 73 Wins\"\n",
    "    print(\n",
    "        cleantext.replace_digits(text))\n"
   ]
  },
  {
   "cell_type": "code",
   "execution_count": 23,
   "metadata": {},
   "outputs": [
    {
     "name": "stdout",
     "output_type": "stream",
     "text": [
      "in the 0000s there was 00.0 and 000 00 00 $00 00 wins\n",
      "0 Golf Records More 'Unbreakable' Than the Warriors' 00 Wins\n"
     ]
    }
   ],
   "source": [
    "test_zero_digits()"
   ]
  },
  {
   "cell_type": "code",
   "execution_count": 24,
   "metadata": {},
   "outputs": [],
   "source": [
    "def test_to_ascii():\n",
    "    print(cleantext.to_ascii_unicode(\"whatëver\"))\n",
    "    print(cleantext.to_ascii_unicode(\"Äpfel»\", lang=\"de\"))\n",
    "    print(cleantext.to_ascii_unicode(\"Äpfel»\", lang=\"DE\"))\n"
   ]
  },
  {
   "cell_type": "code",
   "execution_count": 25,
   "metadata": {},
   "outputs": [
    {
     "name": "stdout",
     "output_type": "stream",
     "text": [
      "whatever\n",
      "Äpfel\"\n",
      "Äpfel\"\n"
     ]
    }
   ],
   "source": [
    "test_to_ascii()"
   ]
  },
  {
   "cell_type": "code",
   "execution_count": 26,
   "metadata": {},
   "outputs": [],
   "source": [
    "def test_whitespace():\n",
    "    print(cleantext.clean(\" peter\", normalize_whitespace=False))\n",
    "    print(cleantext.clean(\" peter\", normalize_whitespace=True))\n",
    "    print(\n",
    "        cleantext.clean(\" pet\\n\\ner\", normalize_whitespace=True, no_line_breaks=True))\n",
    "    print(\n",
    "        cleantext.clean(\" pet\\n\\ner\", normalize_whitespace=True, no_line_breaks=False))\n"
   ]
  },
  {
   "cell_type": "code",
   "execution_count": 27,
   "metadata": {},
   "outputs": [
    {
     "name": "stdout",
     "output_type": "stream",
     "text": [
      " peter\n",
      "peter\n",
      "pet er\n",
      "pet\n",
      "er\n"
     ]
    }
   ],
   "source": [
    "test_whitespace()"
   ]
  },
  {
   "cell_type": "code",
   "execution_count": 28,
   "metadata": {},
   "outputs": [],
   "source": [
    "emoji_line = (\n",
    "    \"🤔 🙈 me, se 😌 ds 💕👭👙 hello 👩🏾‍🎓 emoji hello 👨‍👩‍👦‍👦 how are 😊 you today🙅🏽🙅🏽\"\n",
    ")"
   ]
  },
  {
   "cell_type": "code",
   "execution_count": 29,
   "metadata": {},
   "outputs": [],
   "source": [
    "def test_keep_emojis():\n",
    "    print(cleantext.clean(emoji_line))"
   ]
  },
  {
   "cell_type": "code",
   "execution_count": 30,
   "metadata": {},
   "outputs": [],
   "source": [
    "def test_remove_emojis():\n",
    "    print(cleantext.clean(emoji_line, no_emoji=True))"
   ]
  },
  {
   "cell_type": "code",
   "execution_count": 31,
   "metadata": {},
   "outputs": [],
   "source": [
    "def test_remove_emojis_no_ascii():\n",
    "    print(cleantext.clean(\"😊 you today🙅🏽🙅🏽\", to_ascii=False, no_emoji=True))"
   ]
  },
  {
   "cell_type": "code",
   "execution_count": 32,
   "metadata": {},
   "outputs": [
    {
     "name": "stdout",
     "output_type": "stream",
     "text": [
      "🤔 🙈 me, se 😌 ds 💕👭👙 hello 👩🏾‍🎓 emoji hello 👨‍👩‍👦‍👦 how are 😊 you today🙅🏽🙅🏽\n",
      "me, se ds hello emoji hello how are you today\n",
      "you today\n"
     ]
    }
   ],
   "source": [
    "test_keep_emojis()\n",
    "test_remove_emojis()\n",
    "test_remove_emojis_no_ascii()"
   ]
  },
  {
   "cell_type": "code",
   "execution_count": 33,
   "metadata": {},
   "outputs": [],
   "source": [
    "def test_remove_trail_leading_whitespace():\n",
    "    text_input = \"\"\"\n",
    "    Sehr geehrte Damen und Herren,\n",
    "ich möchte Sie bitten, zu folgendem Fall Stellung zu nehmen. Ich habe einen Fotoautomaten für biometrische Passfotos benutzt, der mein Gesicht nicht erkannt hat. Es besteht die Vermutung, dass dieser Fotoautomat vom BSI zertifiziert ist (Zertifikat BSI-DSZ-CC-0985-2018).\n",
    "Der Fotoautomat steht in  19061  Berlin.\n",
    "\t\tMarke: Fotofix\n",
    "\t\tOrt des Automats: Bezirksamt / Bürgeramt / Bürgerbüro\n",
    "Mit freundlichen Grüßen,\n",
    "Johannes dfdfd\n",
    "    \"\"\"\n",
    "\n",
    "    text_output = \"\"\"Sehr geehrte Damen und Herren,\n",
    "ich möchte Sie bitten, zu folgendem Fall Stellung zu nehmen. Ich habe einen Fotoautomaten für biometrische Passfotos benutzt, der mein Gesicht nicht erkannt hat. Es besteht die Vermutung, dass dieser Fotoautomat vom BSI zertifiziert ist (Zertifikat BSI-DSZ-CC-0985-2018).\n",
    "Der Fotoautomat steht in 19061 Berlin.\n",
    "Marke: Fotofix\n",
    "Ort des Automats: Bezirksamt / Bürgeramt / Bürgerbüro\n",
    "Mit freundlichen Grüßen,\n",
    "Johannes dfdfd\"\"\"\n",
    "\n",
    "    print(\n",
    "        cleantext.clean(\n",
    "            text_input,\n",
    "            lower=False,\n",
    "            lang=\"de\",\n",
    "            no_line_breaks=False,\n",
    "            keep_two_line_breaks=True,\n",
    "        )\n",
    "    )\n",
    "\n",
    "    assert text_output == cleantext.clean(\n",
    "        text_input,\n",
    "        lower=False,\n",
    "        lang=\"de\",\n",
    "        no_line_breaks=False,\n",
    "        keep_two_line_breaks=True,\n",
    "    )\n"
   ]
  },
  {
   "cell_type": "code",
   "execution_count": 34,
   "metadata": {},
   "outputs": [
    {
     "name": "stdout",
     "output_type": "stream",
     "text": [
      "Sehr geehrte Damen und Herren,\n",
      "ich möchte Sie bitten, zu folgendem Fall Stellung zu nehmen. Ich habe einen Fotoautomaten für biometrische Passfotos benutzt, der mein Gesicht nicht erkannt hat. Es besteht die Vermutung, dass dieser Fotoautomat vom BSI zertifiziert ist (Zertifikat BSI-DSZ-CC-0985-2018).\n",
      "Der Fotoautomat steht in 19061 Berlin.\n",
      "Marke: Fotofix\n",
      "Ort des Automats: Bezirksamt / Bürgeramt / Bürgerbüro\n",
      "Mit freundlichen Grüßen,\n",
      "Johannes dfdfd\n"
     ]
    }
   ],
   "source": [
    "test_remove_trail_leading_whitespace()"
   ]
  },
  {
   "cell_type": "code",
   "execution_count": 38,
   "metadata": {},
   "outputs": [],
   "source": [
    "def test_remove_trail_leading_whitespace():\n",
    "    text_input = b'Sehr geehrte Damen und Herren,\\\\r\\\\n\\\\r\\\\nich m\\\\xf6chte Sie bitten, zu folgendem Fall Stellung zu nehmen. Ich habe einen Fotoautomaten f\\\\xfcr biometrische Passfotos benutzt, der mein Gesicht nicht erkannt hat. Es besteht die Vermutung, dass dieser Fotoautomat vom BSI zertifiziert ist (Zertifikat BSI-DSZ-CC-0985-2018).\\\\r\\\\n\\\\r\\\\nDer Fotoautomat steht in  .\\\\r\\\\n\\\\r\\\\n\\\\r\\\\n\\\\t\\\\r\\\\n\\\\t\\\\tOrt des Automats: \\\\r\\\\n\\\\t\\\\r\\\\n\\\\r\\\\n\\\\r\\\\n\\\\r\\\\n \\\\r\\\\n\\\\t\\\\r\\\\n\\\\t\\\\tMarke: \\\\r\\\\n\\\\t\\\\r\\\\n\\\\r\\\\n\\\\r\\\\n\\\\r\\\\n\\\\r\\\\nHier noch Text von Anna Lena.\\\\r\\\\n\\\\r\\\\nMit freundlichen Gr\\\\xfc\\\\xdfen'\n",
    "    text_input = text_input.decode('unicode_escape')\n",
    "    print(\n",
    "        cleantext.clean(\n",
    "            text_input,\n",
    "            lower=False,\n",
    "            lang=\"de\",\n",
    "            no_line_breaks=False,\n",
    "            keep_two_line_breaks=True,\n",
    "        )\n",
    "    )"
   ]
  },
  {
   "cell_type": "code",
   "execution_count": 39,
   "metadata": {},
   "outputs": [
    {
     "name": "stdout",
     "output_type": "stream",
     "text": [
      "Sehr geehrte Damen und Herren,\n",
      "\n",
      "ich möchte Sie bitten, zu folgendem Fall Stellung zu nehmen. Ich habe einen Fotoautomaten für biometrische Passfotos benutzt, der mein Gesicht nicht erkannt hat. Es besteht die Vermutung, dass dieser Fotoautomat vom BSI zertifiziert ist (Zertifikat BSI-DSZ-CC-0985-2018).\n",
      "\n",
      "Der Fotoautomat steht in .\n",
      "\n",
      "Ort des Automats:\n",
      "\n",
      "Marke:\n",
      "\n",
      "Hier noch Text von Anna Lena.\n",
      "\n",
      "Mit freundlichen Grüßen\n"
     ]
    }
   ],
   "source": [
    "test_remove_trail_leading_whitespace()"
   ]
  },
  {
   "cell_type": "code",
   "execution_count": null,
   "metadata": {},
   "outputs": [],
   "source": []
  }
 ],
 "metadata": {
  "kernelspec": {
   "display_name": "Python 3",
   "language": "python",
   "name": "python3"
  },
  "language_info": {
   "codemirror_mode": {
    "name": "ipython",
    "version": 3
   },
   "file_extension": ".py",
   "mimetype": "text/x-python",
   "name": "python",
   "nbconvert_exporter": "python",
   "pygments_lexer": "ipython3",
   "version": "3.8.10"
  }
 },
 "nbformat": 4,
 "nbformat_minor": 4
}
